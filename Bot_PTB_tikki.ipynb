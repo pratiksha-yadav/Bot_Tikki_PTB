{
  "cells": [
    {
      "cell_type": "markdown",
      "metadata": {
        "id": "view-in-github",
        "colab_type": "text"
      },
      "source": [
        "<a href=\"https://colab.research.google.com/github/pratiksha-yadav/Bot_Tikki_PTB/blob/main/Bot_PTB_tikki.ipynb\" target=\"_parent\"><img src=\"https://colab.research.google.com/assets/colab-badge.svg\" alt=\"Open In Colab\"/></a>"
      ]
    },
    {
      "cell_type": "code",
      "execution_count": null,
      "metadata": {
        "colab": {
          "background_save": true,
          "base_uri": "https://localhost:8080/"
        },
        "id": "AP-dCwNAoGbo",
        "outputId": "7e84c2bb-8ac9-44d7-8b4a-829d39ffaf2d"
      },
      "outputs": [
        {
          "name": "stderr",
          "output_type": "stream",
          "text": [
            "No error handlers are registered, logging exception.\n",
            "Traceback (most recent call last):\n",
            "  File \"/usr/local/lib/python3.7/dist-packages/telegram/ext/dispatcher.py\", line 557, in process_update\n",
            "    handler.handle_update(update, self, check, context)\n",
            "  File \"/usr/local/lib/python3.7/dist-packages/telegram/ext/handler.py\", line 199, in handle_update\n",
            "    return self.callback(update, context)\n",
            "  File \"<ipython-input-5-65759276042f>\", line 15, in mesgs_hand\n",
            "    if(update.message.text == \"Hi\"):\n",
            "AttributeError: 'NoneType' object has no attribute 'text'\n"
          ]
        },
        {
          "name": "stdout",
          "output_type": "stream",
          "text": [
            "{'update_id': 118846038, 'message': {'caption_entities': [], 'delete_chat_photo': False, 'group_chat_created': False, 'date': 1654262655, 'new_chat_members': [], 'supergroup_chat_created': False, 'new_chat_photo': [], 'entities': [], 'chat': {'type': 'private', 'last_name': 'Yadav', 'first_name': 'Pratiksha', 'id': 1938860266, 'username': 'pratikshayadav101'}, 'photo': [], 'message_id': 99, 'channel_chat_created': False, 'text': 'Hi', 'from': {'id': 1938860266, 'is_bot': False, 'username': 'pratikshayadav101', 'last_name': 'Yadav', 'first_name': 'Pratiksha', 'language_code': 'en'}}}\n"
          ]
        }
      ],
      "source": [
        "#!/usr/bin/env python3\n",
        "import re\n",
        "import os\n",
        "from telegram import Update, InlineKeyboardButton, InlineKeyboardMarkup\n",
        "from telegram.ext import Updater, CommandHandler, CallbackContext, MessageHandler, Filters, CallbackQueryHandler, PicklePersistence\n",
        "\n",
        "TOKEN = \"5319312424:AAGc_iud0qd8-QTcZSpq1Jhqb-fwkJgyurE\"\n",
        "\n",
        "# This function replies with 'Hello <user.first_name>'\n",
        "def hello(update: Update, context: CallbackContext) -> None:\n",
        "    update.message.reply_text(f'Hello {update.effective_user.first_name}')\n",
        "\n",
        "\n",
        "def mesgs_hand(update, context): \n",
        "    async forward(chat_id, disable_notification=None, read_timeout=None, write_timeout=None, connect_timeout=None, pool_timeout=None, api_kwargs=None, protect_content=None)\n",
        "    if(update.message.text == \"Hi\"):\n",
        "        print(update)\n",
        "        context.bot.send_message(\n",
        "           chat_id='-1001740555691',\n",
        "           text=\"Hey there!\")\n",
        "\n",
        "# messages_handler = MessageHandler(Filters.text, mesgs_hand)\n",
        "# dispatcher.add_handler(messages_handler)\n",
        "\n",
        "updater = Updater(TOKEN)\n",
        "\n",
        "# Make the hello command run the hello function\n",
        "\n",
        "# updater.dispatcher.add_handler(MessageHandler(Filters.regex(INFO_REGEX), receive_info))\n",
        "updater.dispatcher.add_handler(CommandHandler('hello', hello))\n",
        "# updater.dispatcher.add_handler(MessageHandler(Filters.text & ~Filters.command, echo))\n",
        "# updater.dispatcher.add_handler(CommandHandler('random', random))\n",
        "# updater.dispatcher.add_handler(CallbackQueryHandler(button))\n",
        "updater.dispatcher.add_handler(MessageHandler(Filters.text & ~Filters.command, mesgs_hand))\n",
        "\n",
        "# Connect to Telegram and wait for messages\n",
        "updater.start_polling()\n",
        "\n",
        "# Keep the program running until interrupted\n",
        "updater.idle()"
      ]
    },
    {
      "cell_type": "markdown",
      "metadata": {
        "id": "a6EhVl_ztTSk"
      },
      "source": [
        "# New Section"
      ]
    },
    {
      "cell_type": "markdown",
      "metadata": {
        "id": "6S771oUBtUzE"
      },
      "source": [
        "# New Section"
      ]
    },
    {
      "cell_type": "code",
      "execution_count": null,
      "metadata": {
        "colab": {
          "base_uri": "https://localhost:8080/"
        },
        "id": "Z205cVvToR9O",
        "outputId": "173469e9-425c-4db1-c11b-2aa2595feeec"
      },
      "outputs": [
        {
          "name": "stdout",
          "output_type": "stream",
          "text": [
            "Looking in indexes: https://pypi.org/simple, https://us-python.pkg.dev/colab-wheels/public/simple/\n",
            "Requirement already satisfied: python-telegram-bot in /usr/local/lib/python3.7/dist-packages (13.12)\n",
            "Requirement already satisfied: certifi in /usr/local/lib/python3.7/dist-packages (from python-telegram-bot) (2022.5.18.1)\n",
            "Requirement already satisfied: APScheduler==3.6.3 in /usr/local/lib/python3.7/dist-packages (from python-telegram-bot) (3.6.3)\n",
            "Requirement already satisfied: pytz>=2018.6 in /usr/local/lib/python3.7/dist-packages (from python-telegram-bot) (2022.1)\n",
            "Requirement already satisfied: tornado>=6.1 in /usr/local/lib/python3.7/dist-packages (from python-telegram-bot) (6.1)\n",
            "Requirement already satisfied: cachetools==4.2.2 in /usr/local/lib/python3.7/dist-packages (from python-telegram-bot) (4.2.2)\n",
            "Requirement already satisfied: setuptools>=0.7 in /usr/local/lib/python3.7/dist-packages (from APScheduler==3.6.3->python-telegram-bot) (57.4.0)\n",
            "Requirement already satisfied: tzlocal>=1.2 in /usr/local/lib/python3.7/dist-packages (from APScheduler==3.6.3->python-telegram-bot) (1.5.1)\n",
            "Requirement already satisfied: six>=1.4.0 in /usr/local/lib/python3.7/dist-packages (from APScheduler==3.6.3->python-telegram-bot) (1.15.0)\n"
          ]
        }
      ],
      "source": [
        "!pip install python-telegram-bot"
      ]
    }
  ],
  "metadata": {
    "colab": {
      "name": "Bot_PTB_tikki.ipynb",
      "provenance": [],
      "authorship_tag": "ABX9TyN5QrTwuvMp6FfIPHWbkm/t",
      "include_colab_link": true
    },
    "kernelspec": {
      "display_name": "Python 3",
      "name": "python3"
    },
    "language_info": {
      "name": "python"
    }
  },
  "nbformat": 4,
  "nbformat_minor": 0
}